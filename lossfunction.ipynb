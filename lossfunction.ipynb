{
  "nbformat": 4,
  "nbformat_minor": 0,
  "metadata": {
    "colab": {
      "provenance": [],
      "authorship_tag": "ABX9TyPrzPcTImKA2dOXAEnurRLV",
      "include_colab_link": true
    },
    "kernelspec": {
      "name": "python3",
      "display_name": "Python 3"
    },
    "language_info": {
      "name": "python"
    }
  },
  "cells": [
    {
      "cell_type": "markdown",
      "metadata": {
        "id": "view-in-github",
        "colab_type": "text"
      },
      "source": [
        "<a href=\"https://colab.research.google.com/github/Ryeongeun-Kim/AI/blob/main/lossfunction.ipynb\" target=\"_parent\"><img src=\"https://colab.research.google.com/assets/colab-badge.svg\" alt=\"Open In Colab\"/></a>"
      ]
    },
    {
      "cell_type": "code",
      "execution_count": null,
      "metadata": {
        "id": "L_zB4eaZ_JzA"
      },
      "outputs": [],
      "source": [
        "import numpy as np\n",
        "\n",
        "class LossFunc:\n",
        "    def __init__(self):\n",
        "        pass\n",
        "\n",
        "    def softmax_loss(self, W, X_tr, y_tr):\n",
        "        X_tr = X_tr.T\n",
        "        W = W.T\n",
        "        scores = np.dot(X_tr, W)\n",
        "        max_scores = np.max(scores, axis=1, keepdims=True)\n",
        "        exp_scores = np.exp(scores - max_scores)\n",
        "        probs = exp_scores / np.sum(exp_scores, axis=1, keepdims=True)\n",
        "        correct_logprobs = -np.log(probs[range(X_tr.shape[0]), y_tr])\n",
        "        loss = np.mean(correct_logprobs)\n",
        "        dscores = probs\n",
        "        dscores[range(X_tr.shape[0]), y_tr] -= 1\n",
        "        dscores /= X_tr.shape[0]\n",
        "        dW = np.dot(X_tr.T, dscores)\n",
        "\n",
        "        return loss, dW"
      ]
    }
  ]
}